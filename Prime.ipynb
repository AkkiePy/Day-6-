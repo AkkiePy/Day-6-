{
  "nbformat": 4,
  "nbformat_minor": 0,
  "metadata": {
    "colab": {
      "name": "Prime.ipynb",
      "provenance": []
    },
    "kernelspec": {
      "name": "python3",
      "display_name": "Python 3"
    }
  },
  "cells": [
    {
      "cell_type": "code",
      "metadata": {
        "id": "JpozcBzuWzTC",
        "colab_type": "code",
        "colab": {
          "base_uri": "https://localhost:8080/",
          "height": 445
        },
        "outputId": "cffcc48d-e0f0-4400-96a6-101bb9669537"
      },
      "source": [
        "!pip install pylint"
      ],
      "execution_count": 6,
      "outputs": [
        {
          "output_type": "stream",
          "text": [
            "Collecting pylint\n",
            "\u001b[?25l  Downloading https://files.pythonhosted.org/packages/37/6e/36419ec1bd2208e157dff7fc3e565b185394c0dc4901e9e2f983cb1d4b7f/pylint-2.5.2-py3-none-any.whl (324kB)\n",
            "\r\u001b[K     |█                               | 10kB 18.7MB/s eta 0:00:01\r\u001b[K     |██                              | 20kB 1.8MB/s eta 0:00:01\r\u001b[K     |███                             | 30kB 2.3MB/s eta 0:00:01\r\u001b[K     |████                            | 40kB 1.6MB/s eta 0:00:01\r\u001b[K     |█████                           | 51kB 1.9MB/s eta 0:00:01\r\u001b[K     |██████                          | 61kB 2.2MB/s eta 0:00:01\r\u001b[K     |███████                         | 71kB 2.4MB/s eta 0:00:01\r\u001b[K     |████████                        | 81kB 2.6MB/s eta 0:00:01\r\u001b[K     |█████████                       | 92kB 2.9MB/s eta 0:00:01\r\u001b[K     |██████████                      | 102kB 2.8MB/s eta 0:00:01\r\u001b[K     |███████████▏                    | 112kB 2.8MB/s eta 0:00:01\r\u001b[K     |████████████▏                   | 122kB 2.8MB/s eta 0:00:01\r\u001b[K     |█████████████▏                  | 133kB 2.8MB/s eta 0:00:01\r\u001b[K     |██████████████▏                 | 143kB 2.8MB/s eta 0:00:01\r\u001b[K     |███████████████▏                | 153kB 2.8MB/s eta 0:00:01\r\u001b[K     |████████████████▏               | 163kB 2.8MB/s eta 0:00:01\r\u001b[K     |█████████████████▏              | 174kB 2.8MB/s eta 0:00:01\r\u001b[K     |██████████████████▏             | 184kB 2.8MB/s eta 0:00:01\r\u001b[K     |███████████████████▏            | 194kB 2.8MB/s eta 0:00:01\r\u001b[K     |████████████████████▏           | 204kB 2.8MB/s eta 0:00:01\r\u001b[K     |█████████████████████▏          | 215kB 2.8MB/s eta 0:00:01\r\u001b[K     |██████████████████████▎         | 225kB 2.8MB/s eta 0:00:01\r\u001b[K     |███████████████████████▎        | 235kB 2.8MB/s eta 0:00:01\r\u001b[K     |████████████████████████▎       | 245kB 2.8MB/s eta 0:00:01\r\u001b[K     |█████████████████████████▎      | 256kB 2.8MB/s eta 0:00:01\r\u001b[K     |██████████████████████████▎     | 266kB 2.8MB/s eta 0:00:01\r\u001b[K     |███████████████████████████▎    | 276kB 2.8MB/s eta 0:00:01\r\u001b[K     |████████████████████████████▎   | 286kB 2.8MB/s eta 0:00:01\r\u001b[K     |█████████████████████████████▎  | 296kB 2.8MB/s eta 0:00:01\r\u001b[K     |██████████████████████████████▎ | 307kB 2.8MB/s eta 0:00:01\r\u001b[K     |███████████████████████████████▎| 317kB 2.8MB/s eta 0:00:01\r\u001b[K     |████████████████████████████████| 327kB 2.8MB/s \n",
            "\u001b[?25hCollecting toml>=0.7.1\n",
            "  Downloading https://files.pythonhosted.org/packages/a2/12/ced7105d2de62fa7c8fb5fce92cc4ce66b57c95fb875e9318dba7f8c5db0/toml-0.10.0-py2.py3-none-any.whl\n",
            "Collecting mccabe<0.7,>=0.6\n",
            "  Downloading https://files.pythonhosted.org/packages/87/89/479dc97e18549e21354893e4ee4ef36db1d237534982482c3681ee6e7b57/mccabe-0.6.1-py2.py3-none-any.whl\n",
            "Collecting astroid<=2.5,>=2.4.0\n",
            "\u001b[?25l  Downloading https://files.pythonhosted.org/packages/46/c9/e9c2642dfb169590fb8bdb395f9329da042ee559c2ae7c1e612a3e5f40b4/astroid-2.4.1-py3-none-any.whl (214kB)\n",
            "\u001b[K     |████████████████████████████████| 215kB 9.5MB/s \n",
            "\u001b[?25hCollecting isort<5,>=4.2.5\n",
            "\u001b[?25l  Downloading https://files.pythonhosted.org/packages/e5/b0/c121fd1fa3419ea9bfd55c7f9c4fedfec5143208d8c7ad3ce3db6c623c21/isort-4.3.21-py2.py3-none-any.whl (42kB)\n",
            "\u001b[K     |████████████████████████████████| 51kB 5.9MB/s \n",
            "\u001b[?25hCollecting typed-ast<1.5,>=1.4.0; implementation_name == \"cpython\" and python_version < \"3.8\"\n",
            "\u001b[?25l  Downloading https://files.pythonhosted.org/packages/90/ed/5459080d95eb87a02fe860d447197be63b6e2b5e9ff73c2b0a85622994f4/typed_ast-1.4.1-cp36-cp36m-manylinux1_x86_64.whl (737kB)\n",
            "\u001b[K     |████████████████████████████████| 747kB 10.2MB/s \n",
            "\u001b[?25hRequirement already satisfied: six~=1.12 in /usr/local/lib/python3.6/dist-packages (from astroid<=2.5,>=2.4.0->pylint) (1.12.0)\n",
            "Collecting lazy-object-proxy==1.4.*\n",
            "\u001b[?25l  Downloading https://files.pythonhosted.org/packages/0b/dd/b1e3407e9e6913cf178e506cd0dee818e58694d9a5cd1984e3f6a8b9a10f/lazy_object_proxy-1.4.3-cp36-cp36m-manylinux1_x86_64.whl (55kB)\n",
            "\u001b[K     |████████████████████████████████| 61kB 6.6MB/s \n",
            "\u001b[?25hRequirement already satisfied: wrapt~=1.11 in /usr/local/lib/python3.6/dist-packages (from astroid<=2.5,>=2.4.0->pylint) (1.12.1)\n",
            "Installing collected packages: toml, mccabe, typed-ast, lazy-object-proxy, astroid, isort, pylint\n",
            "Successfully installed astroid-2.4.1 isort-4.3.21 lazy-object-proxy-1.4.3 mccabe-0.6.1 pylint-2.5.2 toml-0.10.0 typed-ast-1.4.1\n"
          ],
          "name": "stdout"
        }
      ]
    },
    {
      "cell_type": "code",
      "metadata": {
        "id": "PTQ44sldW3tD",
        "colab_type": "code",
        "colab": {
          "base_uri": "https://localhost:8080/",
          "height": 34
        },
        "outputId": "cd29c12a-684d-4c0b-90a5-e556deaedb65"
      },
      "source": [
        "%%writefile ourPylit.py\n",
        "def isprime(num):\n",
        "    flag=0\n",
        "    if num==1:\n",
        "        print(\"Given number is not prime\")\n",
        "        return\n",
        "    for i in range(2, num - 1):\n",
        "        if (num % i == 0):\n",
        "            flag = 1\n",
        "            break\n",
        "    if flag==0:\n",
        "        print(\"Given number is prime\")\n",
        "    else:\n",
        "        print(\"Given number is not prime\")\n",
        "\n",
        "num = int(input(\"Enter nmuber do you want to check:\"))\n",
        "isprime(num)"
      ],
      "execution_count": 10,
      "outputs": [
        {
          "output_type": "stream",
          "text": [
            "Writing ourPylit.py\n"
          ],
          "name": "stdout"
        }
      ]
    },
    {
      "cell_type": "code",
      "metadata": {
        "id": "wdQBYf1wXxWK",
        "colab_type": "code",
        "colab": {
          "base_uri": "https://localhost:8080/",
          "height": 372
        },
        "outputId": "9f68fb1e-777b-4c0a-d4c8-fbc26584ff55"
      },
      "source": [
        "!pylint ourPylit.py"
      ],
      "execution_count": 11,
      "outputs": [
        {
          "output_type": "stream",
          "text": [
            "************* Module ourPylit\n",
            "ourPylit.py:2:8: C0326: Exactly one space required around assignment\n",
            "    flag=0\n",
            "        ^ (bad-whitespace)\n",
            "ourPylit.py:3:10: C0326: Exactly one space required around comparison\n",
            "    if num==1:\n",
            "          ^^ (bad-whitespace)\n",
            "ourPylit.py:7:0: C0325: Unnecessary parens after 'if' keyword (superfluous-parens)\n",
            "ourPylit.py:10:11: C0326: Exactly one space required around comparison\n",
            "    if flag==0:\n",
            "           ^^ (bad-whitespace)\n",
            "ourPylit.py:16:0: C0304: Final newline missing (missing-final-newline)\n",
            "ourPylit.py:1:0: C0103: Module name \"ourPylit\" doesn't conform to snake_case naming style (invalid-name)\n",
            "ourPylit.py:1:0: C0114: Missing module docstring (missing-module-docstring)\n",
            "ourPylit.py:1:0: C0116: Missing function or method docstring (missing-function-docstring)\n",
            "ourPylit.py:1:12: W0621: Redefining name 'num' from outer scope (line 15) (redefined-outer-name)\n",
            "\n",
            "-----------------------------------\n",
            "Your code has been rated at 3.57/10\n",
            "\n"
          ],
          "name": "stdout"
        }
      ]
    },
    {
      "cell_type": "code",
      "metadata": {
        "id": "dJDRZfugX5BB",
        "colab_type": "code",
        "colab": {}
      },
      "source": [
        ""
      ],
      "execution_count": 0,
      "outputs": []
    }
  ]
}